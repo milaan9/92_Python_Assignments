{
 "cells": [
  {
   "cell_type": "markdown",
   "metadata": {
    "ExecuteTime": {
     "end_time": "2021-07-20T09:16:22.081113Z",
     "start_time": "2021-07-20T09:16:22.072320Z"
    }
   },
   "source": [
    "&emsp;&emsp;&emsp;&emsp;&emsp;&emsp;&emsp;&emsp; **JLUFE**  &emsp;&emsp;&emsp;&emsp;&emsp;&emsp;&emsp;&emsp;&emsp;&emsp;&emsp;&emsp;&emsp;&emsp;&emsp;&emsp;&emsp;&emsp;&emsp;&emsp;&emsp;&emsp;&emsp;&emsp;&emsp;&emsp;&emsp;&emsp;&emsp;&emsp;&emsp;&emsp;&emsp;&ensp;**Fall 2021(Sep-Jan)**  \n",
    "\n",
    "\n",
    "**<div align=\"center\">Homework Assignment Report</div>**\n",
    "<br>\n",
    "\n",
    "**<div align=\"center\">JILIN UNIVERSITY OF FINANCE AND ECONOMICS</div>**\n",
    "<br>\n",
    "\n",
    "**<div align=\"center\"><span style=\"color:blue\">College of Managment Science and Information Engineering</span></div>**\n",
    "\n",
    "**<div align=\"center\">BSc in <span style=\"color:blue\">Data Science and Big Data Technology</span></div>**\n",
    "\n",
    "**<div align=\"center\">(2021)</div>**\n",
    "\n",
    "<br> \n",
    "\n",
    "**<div align=\"center\">MODULE: Intelligent Technology</div>**\n",
    "\n",
    "**<div align=\"center\">Homework Assignment: 01</div>**\n",
    "\n",
    "**<div align=\"center\">Variables and Operators</div>**\n",
    "\n",
    "**<div align=\"center\">16/09/2021</div>**\n",
    "\n",
    "<br>\n",
    "\n",
    "**<div align=\"center\">Submitted by:</div>**\n",
    "\n",
    "**<div align=\"center\"><span style=\"color:blue\">Milan(米兰) 0318021907632 (2005)</span></div>**\n",
    "**<div align=\"center\">QQ: <span style=\"color:blue\">3086215265</span> | Github ID: <span style=\"color:blue\">milaan9</span></div>**"
   ]
  },
  {
   "cell_type": "markdown",
   "metadata": {},
   "source": [
    "# Instructions: \n",
    "\n",
    "\n",
    "1. I have added tips and required learning resources for each question, which helps you to solve the problems. \n",
    "\n",
    "2. Finish the assignment on your **OWN**. **<span style=\"color:red\">Any student find copying/sharing from classmates or internet will get '0' points!!!</span>**\n",
    "\n",
    "3. After <span class='label label-default'>Accepting this assignment</span> from ➞ **[GitHub Clasroom link](https://classroom.github.com/a/E8YXLgc4)**, Github will create private repository of the assignment in your GitHub Classroom account.\n",
    "\n",
    "4. In your repository <span class='label label-default'>Clone</span> ➞ <span class='label label-default'>Download ZIP</span> in your computer.\n",
    "\n",
    "5. Change your ➞ **College**, **Major**, **Name**, **Student number**, **Class number**, **QQ number** and **GitHub ID**\n",
    "\n",
    "6. Once you finish the Assignment **[convert your .ipynb file into PDF](https://github.com/milaan9/91_Python_Mini_Projects/tree/main/001_Convert_IPython_to_PDF)** (both **.ipynb** and **.pdf** file will be required!)\n",
    "\n",
    "7. To submit your assignment, go to GitHub Classroom repository and <span class='label label-default'>Add file</span> ➞ <span class='label label-default'>Upload files</span> ➞ <span class='label label-default'>Commit changes</span>\n",
    "    1. Replace the question (**.ipynb**) file with your solution (**.ipynb**) file.\n",
    "    2. Also, upload (**.pdf**) converted file of your solution (**.ipynb**) file."
   ]
  },
  {
   "cell_type": "markdown",
   "metadata": {},
   "source": [
    "# Python Assignment 01"
   ]
  },
  {
   "cell_type": "markdown",
   "metadata": {},
   "source": [
    "# Part A ➞ Variables <span class='label label-default'>Level 1</span>"
   ]
  },
  {
   "cell_type": "markdown",
   "metadata": {},
   "source": [
    "1. Write a python comment saying **`Python variables and Constants`**\n",
    "2. Declare a **`first_name`** variable and assign a value to it\n",
    "3. Declare a **`last_name`** variable and assign a value to it\n",
    "4. Declare a **`full_name`** variable and assign a value to it\n",
    "5. Declare a variable **`is_light_on`** and assign a value to it\n",
    "6. Declare multiple variable on one line"
   ]
  },
  {
   "cell_type": "code",
   "execution_count": null,
   "metadata": {},
   "outputs": [],
   "source": [
    "# Solution: \n",
    "\n"
   ]
  },
  {
   "cell_type": "markdown",
   "metadata": {},
   "source": [
    "# Part B ➞ Variables <span class='label label-default'>Level 2</span>\n",
    "\n",
    ">**Note:** Please create new cell for each question"
   ]
  },
  {
   "cell_type": "markdown",
   "metadata": {},
   "source": [
    "1. Check the data type of all your variables using **`type()`** built-in function\n",
    "2. Using the **`len()`** built-in function, find the length of your first name\n",
    "3. Compare the length of your **`first_name`** and your **`last_name`**\n",
    "4. Declare **6** as **`num_1`** and **4** as **`num_2`**\n",
    "    1. Add **`num_1`** and **`num_2`** and assign the value to a variable **`total`**\n",
    "    2. Subtract **`num_2`** from **`num_1`** and assign the value to a variable **difference`**\n",
    "    3. Multiply **`num_2`** and **`num_1`** and assign the value to a variable **`product`**\n",
    "    4. Divide **`num_1`** by **`num_2`** and assign the value to a variable **`division`**\n",
    "    5. Use modulus division to find **`num_2`** divided by **`num_1`** and assign the value to a variable **`remainder`**\n",
    "    6. Calculate **`num_1`** to the power of **`num_2`** and assign the value to a variable **`exp`**\n",
    "    7. Find floor division of **`num_1`** by **`num_2`** and assign the value to a variable **`floor_division`**\n",
    "\n",
    "5. Use the built-in **`input()`** function to get first name, last name, country and age from a user and store the value to their corresponding variable names\n",
    "\n",
    "6. The radius of a circle is **30 meters**.\n",
    "    1. Calculate the area of a circle and assign the value to a variable name of **`area_of_circle`** by taking user **`input()`**\n",
    "    2. Calculate the circumference of a circle and assign the value to a variable name of **`circum_of_circle`** by taking user **`input()`**\n",
    "    3. Take radius as user **`input()`** and calculate the area.\n",
    "\n",
    "7. Run help (**`keywords`**) in Python shell or in your file to check for the Python reserved words or keywords"
   ]
  },
  {
   "cell_type": "code",
   "execution_count": null,
   "metadata": {},
   "outputs": [],
   "source": [
    "# Solution : \n",
    "\n"
   ]
  },
  {
   "cell_type": "markdown",
   "metadata": {},
   "source": [
    "# Part C ➞ Operators <span class='label label-default'>Level 1</span>\n",
    "\n",
    ">**Note:** Please create new cell for each question"
   ]
  },
  {
   "cell_type": "markdown",
   "metadata": {},
   "source": [
    "1. Declare your age as integer variable\n",
    "2. Declare your height as a float variable\n",
    "3. Declare a variable that store a complex number\n",
    "4. Write a code that prompts the user to enter base and height of the triangle and calculate an area of this triangle (area = 0.5 x b x h).\n",
    "\n",
    "    - ```py\n",
    "    Enter base: 20\n",
    "    Enter height: 10\n",
    "    The area of the triangle is 100\n",
    "    ```\n",
    "\n",
    "5. Write a code that prompts the user to enter side a, side b, and side c of the triangle. Calculate the perimeter of the triangle (perimeter = a + b + c).\n",
    "\n",
    "    - ```py\n",
    "    Enter side a: 5\n",
    "    Enter side b: 4\n",
    "    Enter side c: 3\n",
    "    The perimeter of the triangle is 12\n",
    "    ```\n",
    "\n",
    "6. Get length and width of a rectangle using prompt. Calculate its area (**area = length x width**) and perimeter (**perimeter = 2 x (length + width)**)\n",
    "7. Get radius of a circle using prompt. Calculate the area (**area = pi x r x r**) and circumference (**c = 2 x pi x r**) where pi = 3.14.\n",
    "8. Calculate the slope, **`x`**-intercept and **`y`**-intercept of $y = 2x -2$\n",
    "9. Slope is ($m = (y2-y1)/(x2-x1)$). Find the slope and **[Euclidean distance](https://en.wikipedia.org/wiki/Euclidean_distance#:~:text=In%20mathematics%2C%20the%20Euclidean%20distance,being%20called%20the%20Pythagorean%20distance.)** between point (2, 2) and point (6,10) \n",
    "10. Compare the slopes in tasks 8 and 9.\n",
    "11. Calculate the value of **`y`**: ($y = x^2 + 6x + 9$). Try to use different **`x`** values and figure out at what **`x`** value **`y`** is going to be 0.\n",
    "12. Find the length of **`'python'`** and **`'datascience'`** and compare if the length are same using **`==`**.\n",
    "13. Use **`and`** operator to check if **`on`** is found in both **`python`** and **`cannon`**\n",
    "14. **`I hope this course is not full of jargon`**. Use **`in`** operator to check if **`jargon`** is in the sentence.\n",
    "15. There is no **`on`** in both **`python`** and **`cannon`**\n",
    "16. Find the length of the text **`python`** and convert the value to float and convert it to string\n",
    "17. Even numbers are divisible by 2 and the remainder is zero. How do you check if a number is even or not using python?\n",
    "18. Check if the floor division of 7 by 3 is equal to the int converted value of 2.7.\n",
    "19. Check if type of **\"10\"** is equal to type of 10\n",
    "20. Check if int(**\"9.6\"**) is equal to 10\n",
    "21. Write a code that prompts the user to enter hours and rate per hour. Calculate pay of the person?\n",
    "\n",
    "    - ```py\n",
    "Enter hours: 40\n",
    "Enter rate per hour: 30\n",
    "Your weekly earning is 1200\n",
    "    ```\n",
    "\n",
    "22. Write a script that prompts the user to enter number of years. Calculate the number of seconds a person can live. Assume a person can live hundred years\n",
    "\n",
    "    - ```py\n",
    "Enter number of years you have lived: 100\n",
    "You have lived for 3153600000 seconds.\n",
    "    ```\n",
    "\n",
    "23. Write a Python code that displays the following table **using operators**\n",
    "\n",
    "    - ```py\n",
    "1 2 3 4 5  \n",
    "2 4 6 8 10\n",
    "3 6 9 12 15\n",
    "4 8 12 16 20\n",
    "5 10 15 20 25\n",
    "    ```"
   ]
  },
  {
   "cell_type": "code",
   "execution_count": null,
   "metadata": {},
   "outputs": [],
   "source": [
    "# Solution: \n",
    "\n"
   ]
  }
 ],
 "metadata": {
  "hide_input": false,
  "kernelspec": {
   "display_name": "Python 3",
   "language": "python",
   "name": "python3"
  },
  "language_info": {
   "codemirror_mode": {
    "name": "ipython",
    "version": 3
   },
   "file_extension": ".py",
   "mimetype": "text/x-python",
   "name": "python",
   "nbconvert_exporter": "python",
   "pygments_lexer": "ipython3",
   "version": "3.8.8"
  },
  "toc": {
   "base_numbering": 1,
   "nav_menu": {},
   "number_sections": true,
   "sideBar": true,
   "skip_h1_title": false,
   "title_cell": "Table of Contents",
   "title_sidebar": "Contents",
   "toc_cell": false,
   "toc_position": {},
   "toc_section_display": true,
   "toc_window_display": false
  },
  "varInspector": {
   "cols": {
    "lenName": 16,
    "lenType": 16,
    "lenVar": 40
   },
   "kernels_config": {
    "python": {
     "delete_cmd_postfix": "",
     "delete_cmd_prefix": "del ",
     "library": "var_list.py",
     "varRefreshCmd": "print(var_dic_list())"
    },
    "r": {
     "delete_cmd_postfix": ") ",
     "delete_cmd_prefix": "rm(",
     "library": "var_list.r",
     "varRefreshCmd": "cat(var_dic_list()) "
    }
   },
   "types_to_exclude": [
    "module",
    "function",
    "builtin_function_or_method",
    "instance",
    "_Feature"
   ],
   "window_display": false
  }
 },
 "nbformat": 4,
 "nbformat_minor": 2
}
