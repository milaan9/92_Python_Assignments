{
 "cells": [
  {
   "cell_type": "markdown",
   "metadata": {
    "ExecuteTime": {
     "end_time": "2021-07-20T09:16:22.081113Z",
     "start_time": "2021-07-20T09:16:22.072320Z"
    }
   },
   "source": [
    "&emsp;&emsp;&emsp;&emsp;&emsp;&emsp;&emsp;&emsp; **JLUFE**  &emsp;&emsp;&emsp;&emsp;&emsp;&emsp;&emsp;&emsp;&emsp;&emsp;&emsp;&emsp;&emsp;&emsp;&emsp;&emsp;&emsp;&emsp;&emsp;&emsp;&emsp;&emsp;&emsp;&emsp;&emsp;&emsp;&emsp;&emsp;&emsp;&emsp;&emsp;&emsp;&emsp;&ensp;**Fall 2021(Sep-Jan)**  \n",
    "\n",
    "\n",
    "**<div align=\"center\">Homework Assignment Report</div>**\n",
    "<br>\n",
    "\n",
    "**<div align=\"center\">JILIN UNIVERSITY OF FINANCE AND ECONOMICS</div>**\n",
    "<br>\n",
    "\n",
    "**<div align=\"center\"><span style=\"color:blue\">College of Managment Science and Information Engineering</span></div>**\n",
    "\n",
    "**<div align=\"center\">BSc in <span style=\"color:blue\">Data Science and Big Data Technology</span></div>**\n",
    "\n",
    "**<div align=\"center\">(2021)</div>**\n",
    "\n",
    "<br> \n",
    "\n",
    "**<div align=\"center\">MODULE: Intelligent Technology</div>**\n",
    "\n",
    "**<div align=\"center\">Homework Assignment: 02</div>**\n",
    "\n",
    "**<div align=\"center\">Tuples, Sets and Dictionary</div>**\n",
    "\n",
    "**<div align=\"center\">30/09/2021</div>**\n",
    "\n",
    "<br>\n",
    "\n",
    "**<div align=\"center\">Submitted by:</div>**\n",
    "\n",
    "**<div align=\"center\"><span style=\"color:blue\">Milan(米兰) 0318021907632 (2005)</span></div>**\n",
    "**<div align=\"center\">QQ: <span style=\"color:blue\">3086215265</span> | Github ID: <span style=\"color:blue\">milaan9</span></div>**"
   ]
  },
  {
   "cell_type": "markdown",
   "metadata": {},
   "source": [
    "# Instructions: \n",
    "\n",
    "\n",
    "1. I have added tips and required learning resources for each question, which helps you to solve the problems. \n",
    "\n",
    "2. Finish the assignment on your **OWN**. **<span style=\"color:red\">Any student find copying/sharing from classmates or internet will get '0' points!!!</span>**\n",
    "\n",
    "3. After <span class='label label-default'>Accepting this assignment</span> from ➞ **[GitHub Clasroom link](https://classroom.github.com/a/ZPJFystv)**, Github will create private repository of the assignment in your GitHub Classroom account.\n",
    "\n",
    "4. In your repository <span class='label label-default'>Clone</span> ➞ <span class='label label-default'>Download ZIP</span> in your computer.\n",
    "\n",
    "5. Change your ➞ **College**, **Major**, **Name**, **Student number**, **Class number**, **QQ number** and **GitHub ID**\n",
    "\n",
    "6. Once you finish the Assignment **[convert your .ipynb file into PDF](https://github.com/milaan9/91_Python_Mini_Projects/tree/main/001_Convert_IPython_to_PDF)** (both **.ipynb** and **.pdf** file will be required!)\n",
    "\n",
    "7. To submit your assignment, go to GitHub Classroom repository and <span class='label label-default'>Add file</span> ➞ <span class='label label-default'>Upload files</span> ➞ <span class='label label-default'>Commit changes</span>\n",
    "    1. Replace the question (**.ipynb**) file with your solution (**.ipynb**) file.\n",
    "    2. Also, upload (**.pdf**) converted file of your solution (**.ipynb**) file."
   ]
  },
  {
   "cell_type": "markdown",
   "metadata": {},
   "source": [
    "# Python Assignment 03"
   ]
  },
  {
   "cell_type": "markdown",
   "metadata": {},
   "source": [
    "# Part A ➞ Tuple <span class='label label-default'>Level 1 & 2</span>\n",
    "\n",
    ">**Note:** Please create new cell for each question"
   ]
  },
  {
   "cell_type": "markdown",
   "metadata": {},
   "source": [
    "### Part A ➞ <span class='label label-default'>Level 1</span>\n",
    ">**Note:** Please create new cell for each question\n",
    "\n",
    "1. Create a tuple containing names of **`fruits`** and **`vegetables`**\n",
    "2. Join **`fruits`** and **`vegetables`** tuples and assign it to **`fruits_vegetables`**\n",
    "3. How many **`fruits_vegetables`** do you have?\n",
    "4. Modify the **`fruits_vegetables`** tuple and add the name of your favorite mushroom and beverage and assign it to **`food_tuple`**"
   ]
  },
  {
   "cell_type": "code",
   "execution_count": null,
   "metadata": {},
   "outputs": [],
   "source": [
    "# Solution: \n",
    "\n"
   ]
  },
  {
   "cell_type": "markdown",
   "metadata": {},
   "source": [
    "### Part A ➞ <span class='label label-default'>Level 2</span>\n",
    ">**Note:** Please create new cell for each question\n",
    "\n",
    "1. Unpack **`fruits_vegetables`** and mushroom and beverage from **`food_tuple`**\n",
    "2. Change the about **`food_tuple`** tuple to a **`food_list`** list\n",
    "3. Slice out the middle item or items from the **`food_tuple`** tuple or **`food_list`** list.\n",
    "4. Slice out the first three items and the last three items from **`food_list`** list\n",
    "5. Delete the **`food_tuple`** tuple completely\n",
    "6. Check if an item exists in tuple:\n",
    "    - Check if **`'Finland'`** is a asian country\n",
    "    - Check if **`'India'`** is a asian country\n",
    "    ```python\n",
    "asian_countries = ('India','China','Singapore','Thailand','Indonesia')\n",
    "    ```"
   ]
  },
  {
   "cell_type": "code",
   "execution_count": null,
   "metadata": {},
   "outputs": [],
   "source": [
    "# Solution: \n",
    "\n"
   ]
  },
  {
   "cell_type": "markdown",
   "metadata": {},
   "source": [
    "# Part B ➞ Sets <span class='label label-default'>Level 1, 2 and 3</span>\n",
    "\n",
    ">**Note:** Please create new cell for each question"
   ]
  },
  {
   "cell_type": "markdown",
   "metadata": {},
   "source": [
    "```py\n",
    "mix_fruits = {'Guava', 'Pear', 'Mango', 'Apple', 'Fig', 'Orange', 'Banana'}\n",
    "A = {19, 22, 24, 20, 25, 26}\n",
    "B = {19, 22, 20, 25, 26, 24, 28, 27}\n",
    "num = [22, 19, 24, 25, 26, 24, 25, 24]\n",
    "```\n",
    "\n",
    "### Part B ➞ <span class='label label-default'>Level 1</span>\n",
    ">**Note:** Please create new cell for each question\n",
    "\n",
    "1. Find the length of the set **`mix_fruits`**\n",
    "2. Add **`'Kiwi'`** to **`mix_fruits`**\n",
    "3. Insert multiple fruits at once to the set **`mix_fruits`**\n",
    "4. Remove one of the fruit from the set **`mix_fruits`**\n",
    "5. What is the difference between **remove** and **discard**"
   ]
  },
  {
   "cell_type": "code",
   "execution_count": null,
   "metadata": {},
   "outputs": [],
   "source": [
    "# Solution: \n",
    "\n"
   ]
  },
  {
   "cell_type": "markdown",
   "metadata": {},
   "source": [
    "### Part B ➞ <span class='label label-default'>Level 2</span>\n",
    ">**Note:** Please create new cell for each question\n",
    "\n",
    "Use Imaginary values for Set **`A`** and **`B`**\n",
    "\n",
    "1. Join **`A`** and **`B`**\n",
    "2. Find **`A`** intersection **`B`**\n",
    "3. Is **`A`** subset of **`B`**\n",
    "4. Are **`A`** and **`B`** disjoint sets\n",
    "5. Join **`A`** with **`B`** and **`B`** with **`A`**\n",
    "6. What is the symmetric difference between A and **`B`**\n",
    "7. Delete the sets completely"
   ]
  },
  {
   "cell_type": "code",
   "execution_count": null,
   "metadata": {},
   "outputs": [],
   "source": [
    "# Solution: \n",
    "\n"
   ]
  },
  {
   "cell_type": "markdown",
   "metadata": {},
   "source": [
    "### Part B ➞ <span class='label label-default'>Level 3</span>\n",
    ">**Note:** Please create new cell for each question\n",
    "\n",
    "1. Convert the **`num`** to a set and compare the length of the list and the set, which one is bigger?\n",
    "2. Explain the difference between the following data types: **string**, **list**, **tuple** and **set**\n",
    "3. **`I am a researcher cum teacher and I love to inspire and teach people.`**. How many unique words have been used in the sentence? Use the **`split`** methods and set to get the unique words."
   ]
  },
  {
   "cell_type": "code",
   "execution_count": null,
   "metadata": {},
   "outputs": [],
   "source": [
    "# Solution: \n",
    "\n"
   ]
  },
  {
   "cell_type": "markdown",
   "metadata": {},
   "source": [
    "# Part C ➞ Dictionary <span class='label label-default'>Level 1</span>\n",
    "\n",
    ">**Note:** Please create new cell for each question"
   ]
  },
  {
   "cell_type": "markdown",
   "metadata": {},
   "source": [
    "1. Create an empty dictionary called **`bird`**\n",
    "2. Add **`name`**, **`color`**, **`breed`**, **`legs`**, **`age`** to the **`bird`** dictionary\n",
    "3. Create a **`student`** dictionary and add **`first_name`**, **`last_name`**, **`gender`**, **`age`**, **`marital_status`**, **`skills`**, **`country`**, **`city`** and **`address`** as keys for the dictionary\n",
    "3. Get the length of the **`student`** dictionary\n",
    "4. Get the value of **`skills`** and check the data type, it should be a list\n",
    "5. Modify the **`skills`** values by adding one or two skills\n",
    "6. Get the dictionary keys as a list\n",
    "7. Get the dictionary values as a list\n",
    "8. Change the dictionary to a list of tuples using **[items()](https://github.com/milaan9/02_Python_Datatypes/blob/main/005_Python_Dictionary_Methods/005_Python_Dictionary_items%28%29.ipynb)** method\n",
    "9. Delete one of the items in the dictionary\n",
    "10. Delete one of the dictionaries"
   ]
  },
  {
   "cell_type": "code",
   "execution_count": null,
   "metadata": {},
   "outputs": [],
   "source": [
    "# Solution:\n",
    "\n"
   ]
  }
 ],
 "metadata": {
  "hide_input": false,
  "kernelspec": {
   "display_name": "Python 3",
   "language": "python",
   "name": "python3"
  },
  "language_info": {
   "codemirror_mode": {
    "name": "ipython",
    "version": 3
   },
   "file_extension": ".py",
   "mimetype": "text/x-python",
   "name": "python",
   "nbconvert_exporter": "python",
   "pygments_lexer": "ipython3",
   "version": "3.8.8"
  },
  "toc": {
   "base_numbering": 1,
   "nav_menu": {},
   "number_sections": true,
   "sideBar": true,
   "skip_h1_title": false,
   "title_cell": "Table of Contents",
   "title_sidebar": "Contents",
   "toc_cell": false,
   "toc_position": {},
   "toc_section_display": true,
   "toc_window_display": false
  },
  "varInspector": {
   "cols": {
    "lenName": 16,
    "lenType": 16,
    "lenVar": 40
   },
   "kernels_config": {
    "python": {
     "delete_cmd_postfix": "",
     "delete_cmd_prefix": "del ",
     "library": "var_list.py",
     "varRefreshCmd": "print(var_dic_list())"
    },
    "r": {
     "delete_cmd_postfix": ") ",
     "delete_cmd_prefix": "rm(",
     "library": "var_list.r",
     "varRefreshCmd": "cat(var_dic_list()) "
    }
   },
   "types_to_exclude": [
    "module",
    "function",
    "builtin_function_or_method",
    "instance",
    "_Feature"
   ],
   "window_display": false
  }
 },
 "nbformat": 4,
 "nbformat_minor": 2
}
